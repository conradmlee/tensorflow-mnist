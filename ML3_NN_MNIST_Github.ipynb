{
 "cells": [
  {
   "cell_type": "markdown",
   "metadata": {
    "colab_type": "text",
    "id": "944MMLAFVT2n"
   },
   "source": [
    "A Multilayer Neural Network implementation using TensorFlow library.\n",
    "\n",
    "This example is using the MNIST database of handwritten digits\n",
    "(http://yann.lecun.com/exdb/mnist/)\n"
   ]
  },
  {
   "cell_type": "code",
   "execution_count": 1,
   "metadata": {
    "colab": {},
    "colab_type": "code",
    "id": "tN55dowzVaj5"
   },
   "outputs": [
    {
     "name": "stdout",
     "output_type": "stream",
     "text": [
      "WARNING:tensorflow:From <ipython-input-1-9cd92810a2eb>:5: read_data_sets (from tensorflow.contrib.learn.python.learn.datasets.mnist) is deprecated and will be removed in a future version.\n",
      "Instructions for updating:\n",
      "Please use alternatives such as official/mnist/dataset.py from tensorflow/models.\n",
      "WARNING:tensorflow:From C:\\Users\\redwi\\Anaconda3\\lib\\site-packages\\tensorflow\\contrib\\learn\\python\\learn\\datasets\\mnist.py:260: maybe_download (from tensorflow.contrib.learn.python.learn.datasets.base) is deprecated and will be removed in a future version.\n",
      "Instructions for updating:\n",
      "Please write your own downloading logic.\n",
      "WARNING:tensorflow:From C:\\Users\\redwi\\Anaconda3\\lib\\site-packages\\tensorflow\\contrib\\learn\\python\\learn\\datasets\\mnist.py:262: extract_images (from tensorflow.contrib.learn.python.learn.datasets.mnist) is deprecated and will be removed in a future version.\n",
      "Instructions for updating:\n",
      "Please use tf.data to implement this functionality.\n",
      "Extracting /tmp/data/train-images-idx3-ubyte.gz\n",
      "WARNING:tensorflow:From C:\\Users\\redwi\\Anaconda3\\lib\\site-packages\\tensorflow\\contrib\\learn\\python\\learn\\datasets\\mnist.py:267: extract_labels (from tensorflow.contrib.learn.python.learn.datasets.mnist) is deprecated and will be removed in a future version.\n",
      "Instructions for updating:\n",
      "Please use tf.data to implement this functionality.\n",
      "Extracting /tmp/data/train-labels-idx1-ubyte.gz\n",
      "WARNING:tensorflow:From C:\\Users\\redwi\\Anaconda3\\lib\\site-packages\\tensorflow\\contrib\\learn\\python\\learn\\datasets\\mnist.py:110: dense_to_one_hot (from tensorflow.contrib.learn.python.learn.datasets.mnist) is deprecated and will be removed in a future version.\n",
      "Instructions for updating:\n",
      "Please use tf.one_hot on tensors.\n",
      "Extracting /tmp/data/t10k-images-idx3-ubyte.gz\n",
      "Extracting /tmp/data/t10k-labels-idx1-ubyte.gz\n",
      "WARNING:tensorflow:From C:\\Users\\redwi\\Anaconda3\\lib\\site-packages\\tensorflow\\contrib\\learn\\python\\learn\\datasets\\mnist.py:290: DataSet.__init__ (from tensorflow.contrib.learn.python.learn.datasets.mnist) is deprecated and will be removed in a future version.\n",
      "Instructions for updating:\n",
      "Please use alternatives such as official/mnist/dataset.py from tensorflow/models.\n"
     ]
    }
   ],
   "source": [
    "from __future__ import print_function\n",
    "\n",
    "# Import MNIST data\n",
    "from tensorflow.examples.tutorials.mnist import input_data\n",
    "mnist = input_data.read_data_sets(\"/tmp/data/\", one_hot=True)"
   ]
  },
  {
   "cell_type": "code",
   "execution_count": 2,
   "metadata": {},
   "outputs": [],
   "source": [
    "# For plotting results\n",
    "import matplotlib.pyplot as plt"
   ]
  },
  {
   "cell_type": "code",
   "execution_count": 3,
   "metadata": {},
   "outputs": [
    {
     "data": {
      "text/plain": [
       "(10000, 784)"
      ]
     },
     "execution_count": 3,
     "metadata": {},
     "output_type": "execute_result"
    }
   ],
   "source": [
    "# The MNIST test set consists of 10,000 sample images. Each image consists of 784 pixels.\n",
    "mnist.test.images.shape"
   ]
  },
  {
   "cell_type": "code",
   "execution_count": 4,
   "metadata": {},
   "outputs": [
    {
     "data": {
      "text/plain": [
       "(10000, 10)"
      ]
     },
     "execution_count": 4,
     "metadata": {},
     "output_type": "execute_result"
    }
   ],
   "source": [
    "# There are 10 possible output values (the ten digits).\n",
    "mnist.test.labels.shape"
   ]
  },
  {
   "cell_type": "code",
   "execution_count": 5,
   "metadata": {},
   "outputs": [
    {
     "data": {
      "text/plain": [
       "10000"
      ]
     },
     "execution_count": 5,
     "metadata": {},
     "output_type": "execute_result"
    }
   ],
   "source": [
    "mnist.test.num_examples"
   ]
  },
  {
   "cell_type": "code",
   "execution_count": 6,
   "metadata": {
    "colab": {},
    "colab_type": "code",
    "id": "7HugOocRVcN2"
   },
   "outputs": [],
   "source": [
    "import tensorflow as tf"
   ]
  },
  {
   "cell_type": "code",
   "execution_count": 7,
   "metadata": {
    "colab": {},
    "colab_type": "code",
    "id": "l05WQI_hVeDe"
   },
   "outputs": [],
   "source": [
    "# Learning parameters\n",
    "learning_rate = 0.001\n",
    "training_epochs = 15\n",
    "batch_size = 100\n",
    "display_step = 1"
   ]
  },
  {
   "cell_type": "code",
   "execution_count": 8,
   "metadata": {
    "colab": {},
    "colab_type": "code",
    "id": "9LIVSNZ0Vfpw"
   },
   "outputs": [],
   "source": [
    "# Network Parameters\n",
    "n_hidden_1 = 64  # 1st layer number of hidden units\n",
    "n_hidden_2 = 16  # 2nd layer number of hidden units"
   ]
  },
  {
   "cell_type": "code",
   "execution_count": 9,
   "metadata": {
    "colab": {},
    "colab_type": "code",
    "id": "e9sWOrj2VhTj"
   },
   "outputs": [],
   "source": [
    "n_input = 784  # MNIST data input (img shape: 28 * 28)\n",
    "n_classes = 10  # MNIST total classes (0-9 digits)"
   ]
  },
  {
   "cell_type": "code",
   "execution_count": 10,
   "metadata": {
    "colab": {},
    "colab_type": "code",
    "id": "-bHIAOlyVioT"
   },
   "outputs": [],
   "source": [
    "# input\n",
    "x = tf.placeholder(\"float\", [None, n_input])\n",
    "# output\n",
    "y = tf.placeholder(\"float\", [None, n_classes])"
   ]
  },
  {
   "cell_type": "code",
   "execution_count": 11,
   "metadata": {
    "colab": {},
    "colab_type": "code",
    "id": "nuPvEyb-VkOn"
   },
   "outputs": [
    {
     "name": "stdout",
     "output_type": "stream",
     "text": [
      "WARNING:tensorflow:From C:\\Users\\redwi\\Anaconda3\\lib\\site-packages\\tensorflow\\python\\framework\\op_def_library.py:263: colocate_with (from tensorflow.python.framework.ops) is deprecated and will be removed in a future version.\n",
      "Instructions for updating:\n",
      "Colocations handled automatically by placer.\n"
     ]
    }
   ],
   "source": [
    "# weight & bias\n",
    "W = {\n",
    "  'h1': tf.Variable(tf.random_normal([n_input, n_hidden_1])),\n",
    "  'h2': tf.Variable(tf.random_normal([n_hidden_1, n_hidden_2])),\n",
    "  'out': tf.Variable(tf.random_normal([n_hidden_2, n_classes]))\n",
    "}"
   ]
  },
  {
   "cell_type": "code",
   "execution_count": 12,
   "metadata": {
    "colab": {},
    "colab_type": "code",
    "id": "d6x9izv_VmFa"
   },
   "outputs": [],
   "source": [
    "b = {\n",
    "  'b1': tf.Variable(tf.random_normal([n_hidden_1])),\n",
    "  'b2': tf.Variable(tf.random_normal([n_hidden_2])),\n",
    "  'out': tf.Variable(tf.random_normal([n_classes]))\n",
    "}"
   ]
  },
  {
   "cell_type": "code",
   "execution_count": 13,
   "metadata": {
    "colab": {},
    "colab_type": "code",
    "id": "LIq3S2lQVoOV"
   },
   "outputs": [],
   "source": [
    "# TODO: Define the model with two hidden and one output layer\n",
    "def multilayer_nn(x, weights, biases):\n",
    "    # TODO: Define two connected hidden layers with RELU activations\n",
    "    layer_1 = tf.nn.relu(tf.matmul(x, W['h1']) + b['b1'])\n",
    "    layer_2 = tf.nn.relu(tf.matmul(layer_1, W['h2']) + b['b2'])\n",
    "    # TODO: Define the output layer with linear activation\n",
    "    out_layer = tf.sigmoid(tf.matmul(layer_2, W['out']) + b['out'])\n",
    "    return out_layer"
   ]
  },
  {
   "cell_type": "code",
   "execution_count": 14,
   "metadata": {
    "colab": {},
    "colab_type": "code",
    "id": "obiokVWXVqh7"
   },
   "outputs": [],
   "source": [
    "# Construct model\n",
    "pred = multilayer_nn(x, W, b)"
   ]
  },
  {
   "cell_type": "code",
   "execution_count": 15,
   "metadata": {
    "colab": {},
    "colab_type": "code",
    "id": "qeFFzEeLVsAa"
   },
   "outputs": [
    {
     "name": "stdout",
     "output_type": "stream",
     "text": [
      "WARNING:tensorflow:From <ipython-input-15-5e541f2a705f>:2: softmax_cross_entropy_with_logits (from tensorflow.python.ops.nn_ops) is deprecated and will be removed in a future version.\n",
      "Instructions for updating:\n",
      "\n",
      "Future major versions of TensorFlow will allow gradients to flow\n",
      "into the labels input on backprop by default.\n",
      "\n",
      "See `tf.nn.softmax_cross_entropy_with_logits_v2`.\n",
      "\n"
     ]
    }
   ],
   "source": [
    "# Define loss and optimizer\n",
    "cost = tf.reduce_mean(tf.nn.softmax_cross_entropy_with_logits(logits=pred, labels=y))\n",
    "optimizer = tf.train.AdamOptimizer(learning_rate=learning_rate).minimize(cost)"
   ]
  },
  {
   "cell_type": "code",
   "execution_count": 16,
   "metadata": {
    "colab": {},
    "colab_type": "code",
    "id": "UVacBMsmVtWD"
   },
   "outputs": [],
   "source": [
    "# Initializing the variables\n",
    "init = tf.global_variables_initializer()"
   ]
  },
  {
   "cell_type": "code",
   "execution_count": 19,
   "metadata": {
    "colab": {},
    "colab_type": "code",
    "id": "79qMuyAhVu-R"
   },
   "outputs": [
    {
     "name": "stdout",
     "output_type": "stream",
     "text": [
      "Epoch: 0001 cost =  2.173938173\n",
      "Epoch: 0002 cost =  1.862805774\n",
      "Epoch: 0003 cost =  1.754983479\n",
      "Epoch: 0004 cost =  1.701709395\n",
      "Epoch: 0005 cost =  1.667755971\n",
      "Epoch: 0006 cost =  1.642583607\n",
      "Epoch: 0007 cost =  1.622183540\n",
      "Epoch: 0008 cost =  1.607628408\n",
      "Epoch: 0009 cost =  1.595822213\n",
      "Epoch: 0010 cost =  1.587080587\n",
      "Epoch: 0011 cost =  1.579954366\n",
      "Epoch: 0012 cost =  1.571594199\n",
      "Epoch: 0013 cost =  1.566526131\n",
      "Epoch: 0014 cost =  1.561343756\n",
      "Epoch: 0015 cost =  1.557501265\n",
      "Optimization Finished!\n",
      "Accuracy: 0.867\n",
      "[[ 955    0    4    2    0    6    8    0    5    0]\n",
      " [   1 1111    4    2    2    2    3    1    9    0]\n",
      " [  33    9  911   27    8    4   10   12   16    2]\n",
      " [  18    4   41  882    2   18    2   13   25    5]\n",
      " [  18    5   19    0  899    5   12    2    4   18]\n",
      " [  30    1    8  138    8  674   14    2   16    1]\n",
      " [  30    6    9    1   27   36  845    2    2    0]\n",
      " [  13   19   26   16   25    1    3  902    5   18]\n",
      " [  19   13   12   45   11   67   37   15  749    6]\n",
      " [  29    6    8    8  133   15    0   55   13  742]]\n",
      "Wall time: 14.6 s\n"
     ]
    }
   ],
   "source": [
    "%%time\n",
    "x_plot = []\n",
    "y_plot = []\n",
    "\n",
    "# Launch the graph\n",
    "with tf.Session() as sess:\n",
    "    sess.run(init)\n",
    "\n",
    "    # Training cycle\n",
    "    for epoch in range(training_epochs):\n",
    "        avg_cost = 0.\n",
    "        total_batch = int(mnist.train.num_examples/batch_size)\n",
    "        # Loop over all batches\n",
    "        for i in range(total_batch):\n",
    "            batch_x, batch_y = mnist.train.next_batch(batch_size)\n",
    "            # Run optimization op (backprop) and cost op (to get loss value)\n",
    "            _, c = sess.run([optimizer, cost], feed_dict={x: batch_x, y: batch_y})\n",
    "            # Compute average loss\n",
    "            avg_cost += c / total_batch\n",
    "        # Display logs per epoch step\n",
    "        if epoch % display_step == 0:\n",
    "            print(\"Epoch:\", '%04d' % (epoch+1), \"cost = \", \"{:.9f}\".format(avg_cost))\n",
    "        \n",
    "        # For plotting results\n",
    "        x_plot.append(epoch)\n",
    "        y_plot.append(avg_cost)\n",
    "        \n",
    "    print(\"Optimization Finished!\")\n",
    "    \n",
    "    # Note: Had to move the below code inside the \"with tf.Session() as sess\" section, to avoid the following error:\n",
    "    # \"Attempted to use a closed Session.\"\n",
    "    \n",
    "    # Test model\n",
    "    correct_prediction = tf.equal(tf.argmax(pred, 1), tf.argmax(y, 1))\n",
    "    # Calculate accuracy\n",
    "    accuracy = tf.reduce_mean(tf.cast(correct_prediction, \"float\"))\n",
    "    test_accuracy = sess.run(accuracy, feed_dict = {x: mnist.test.images, y: mnist.test.labels})\n",
    "    print(\"Accuracy:\", test_accuracy)\n",
    "    \n",
    "    # TODO Plot a confusion matrix (true labels vs predictions using tf.confusion_matrix)\n",
    "    confusion = tf.confusion_matrix(labels=tf.argmax(mnist.test.labels, 1), predictions=tf.argmax(pred, 1), num_classes=n_classes)\n",
    "    print(confusion.eval({x: mnist.test.images, y: mnist.test.labels}))\n"
   ]
  },
  {
   "cell_type": "code",
   "execution_count": 18,
   "metadata": {},
   "outputs": [
    {
     "data": {
      "image/png": "[encoded data removed]",
      "text/plain": [
       "<Figure size 432x288 with 1 Axes>"
      ]
     },
     "metadata": {
      "needs_background": "light"
     },
     "output_type": "display_data"
    }
   ],
   "source": [
    "# Plotting the cost value across training epochs\n",
    "plt.plot(x_plot, y_plot)\n",
    "plt.xlabel('Training Epochs')\n",
    "plt.ylabel('Cost Function')\n",
    "plt.show()"
   ]
  }
 ],
 "metadata": {
  "colab": {
   "collapsed_sections": [],
   "name": "ML3_NN_MNIST_template.ipynb",
   "provenance": [],
   "version": "0.3.2"
  },
  "kernelspec": {
   "display_name": "Python 3",
   "language": "python",
   "name": "python3"
  },
  "language_info": {
   "codemirror_mode": {
    "name": "ipython",
    "version": 3
   },
   "file_extension": ".py",
   "mimetype": "text/x-python",
   "name": "python",
   "nbconvert_exporter": "python",
   "pygments_lexer": "ipython3",
   "version": "3.7.2"
  }
 },
 "nbformat": 4,
 "nbformat_minor": 1
}
